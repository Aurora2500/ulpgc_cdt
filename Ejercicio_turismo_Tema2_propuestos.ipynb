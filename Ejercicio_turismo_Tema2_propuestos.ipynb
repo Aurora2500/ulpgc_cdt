{
 "cells": [
  {
   "cell_type": "markdown",
   "id": "pressing-munich",
   "metadata": {},
   "source": [
    "<h1 style=\"text-align: center;\">Ciencia de Datos en Turismo\n",
    "</h3>\n",
    "<h3 style=\"text-align: center;\"> Tema 2. Fuentes de datos en turismo </h3>\n",
    "<h3 style=\"text-align: center;\"> Ejercicios propuestos</h3>"
   ]
  },
  {
   "cell_type": "markdown",
   "id": "867c47c9",
   "metadata": {},
   "source": [
    "### Ejercicio 1"
   ]
  },
  {
   "cell_type": "markdown",
   "id": "persistent-carbon",
   "metadata": {},
   "source": [
    "Este ejercicio ilustra la **paradoja de Simpson**, que consiste en la desaparición o inversión de una relación entre dos variables al considerar grupos diferenciados entre esas variable inducidos por una variable adicional. \n",
    "\n",
    "Para ellos tomamos dos variables: (1) GDP per capita para distintos países de la UE; (2) Noches en establecimientos turísticos por país de origen. Tomamos la serie 2014-2023, para las cuales existen datos en las dos bases. Ambas series se encuentran en Eurostat. Se agregan todos los datos de forma estructurada, indicando país y año en variables separadas.   \n",
    "\n",
    "**(a)** Representar el grafo de dispersión GDP per capita - noches en establecimientos turísticos con todos los datos agregados (sin separar por año). Calcular la correlación entre las variables. \n",
    "\n",
    "**(b)** Filtrar los datos por países, graficar las nuevas series filtradas y recalcular la correlación entre variables por países o grupos de países. \n",
    "\n",
    "**(c)** Repetir los epígrafes anteriores suprimiendo los años de COVID (2020, 2021).\n",
    "\n",
    "**(d)** Extraer conclusiones del análisis. "
   ]
  },
  {
   "cell_type": "code",
   "execution_count": 2,
   "id": "8a6fe1e7",
   "metadata": {},
   "outputs": [],
   "source": [
    "import numpy as np\n",
    "import pandas as pd\n",
    "import matplotlib.pyplot as plt\n",
    "plt.rcParams[\"figure.figsize\"] = (10, 5)"
   ]
  },
  {
   "cell_type": "code",
   "execution_count": 3,
   "id": "46f4b894",
   "metadata": {},
   "outputs": [
    {
     "data": {
      "text/html": [
       "<div>\n",
       "<style scoped>\n",
       "    .dataframe tbody tr th:only-of-type {\n",
       "        vertical-align: middle;\n",
       "    }\n",
       "\n",
       "    .dataframe tbody tr th {\n",
       "        vertical-align: top;\n",
       "    }\n",
       "\n",
       "    .dataframe thead th {\n",
       "        text-align: right;\n",
       "    }\n",
       "</style>\n",
       "<table border=\"1\" class=\"dataframe\">\n",
       "  <thead>\n",
       "    <tr style=\"text-align: right;\">\n",
       "      <th></th>\n",
       "      <th>DATAFLOW</th>\n",
       "      <th>LAST UPDATE</th>\n",
       "      <th>freq</th>\n",
       "      <th>unit</th>\n",
       "      <th>na_item</th>\n",
       "      <th>geo</th>\n",
       "      <th>TIME_PERIOD</th>\n",
       "      <th>OBS_VALUE</th>\n",
       "      <th>OBS_FLAG</th>\n",
       "    </tr>\n",
       "  </thead>\n",
       "  <tbody>\n",
       "    <tr>\n",
       "      <th>0</th>\n",
       "      <td>ESTAT:SDG_08_10(1.0)</td>\n",
       "      <td>23/09/24 23:00:00</td>\n",
       "      <td>A</td>\n",
       "      <td>CLV10_EUR_HAB</td>\n",
       "      <td>B1GQ</td>\n",
       "      <td>AL</td>\n",
       "      <td>2000</td>\n",
       "      <td>1700.0</td>\n",
       "      <td>NaN</td>\n",
       "    </tr>\n",
       "    <tr>\n",
       "      <th>1</th>\n",
       "      <td>ESTAT:SDG_08_10(1.0)</td>\n",
       "      <td>23/09/24 23:00:00</td>\n",
       "      <td>A</td>\n",
       "      <td>CLV10_EUR_HAB</td>\n",
       "      <td>B1GQ</td>\n",
       "      <td>AL</td>\n",
       "      <td>2001</td>\n",
       "      <td>1850.0</td>\n",
       "      <td>NaN</td>\n",
       "    </tr>\n",
       "    <tr>\n",
       "      <th>2</th>\n",
       "      <td>ESTAT:SDG_08_10(1.0)</td>\n",
       "      <td>23/09/24 23:00:00</td>\n",
       "      <td>A</td>\n",
       "      <td>CLV10_EUR_HAB</td>\n",
       "      <td>B1GQ</td>\n",
       "      <td>AL</td>\n",
       "      <td>2002</td>\n",
       "      <td>1940.0</td>\n",
       "      <td>NaN</td>\n",
       "    </tr>\n",
       "    <tr>\n",
       "      <th>3</th>\n",
       "      <td>ESTAT:SDG_08_10(1.0)</td>\n",
       "      <td>23/09/24 23:00:00</td>\n",
       "      <td>A</td>\n",
       "      <td>CLV10_EUR_HAB</td>\n",
       "      <td>B1GQ</td>\n",
       "      <td>AL</td>\n",
       "      <td>2003</td>\n",
       "      <td>2060.0</td>\n",
       "      <td>NaN</td>\n",
       "    </tr>\n",
       "    <tr>\n",
       "      <th>4</th>\n",
       "      <td>ESTAT:SDG_08_10(1.0)</td>\n",
       "      <td>23/09/24 23:00:00</td>\n",
       "      <td>A</td>\n",
       "      <td>CLV10_EUR_HAB</td>\n",
       "      <td>B1GQ</td>\n",
       "      <td>AL</td>\n",
       "      <td>2004</td>\n",
       "      <td>2180.0</td>\n",
       "      <td>NaN</td>\n",
       "    </tr>\n",
       "    <tr>\n",
       "      <th>...</th>\n",
       "      <td>...</td>\n",
       "      <td>...</td>\n",
       "      <td>...</td>\n",
       "      <td>...</td>\n",
       "      <td>...</td>\n",
       "      <td>...</td>\n",
       "      <td>...</td>\n",
       "      <td>...</td>\n",
       "      <td>...</td>\n",
       "    </tr>\n",
       "    <tr>\n",
       "      <th>1868</th>\n",
       "      <td>ESTAT:SDG_08_10(1.0)</td>\n",
       "      <td>23/09/24 23:00:00</td>\n",
       "      <td>A</td>\n",
       "      <td>CLV_PCH_PRE_HAB</td>\n",
       "      <td>B1GQ</td>\n",
       "      <td>UK</td>\n",
       "      <td>2015</td>\n",
       "      <td>1.6</td>\n",
       "      <td>NaN</td>\n",
       "    </tr>\n",
       "    <tr>\n",
       "      <th>1869</th>\n",
       "      <td>ESTAT:SDG_08_10(1.0)</td>\n",
       "      <td>23/09/24 23:00:00</td>\n",
       "      <td>A</td>\n",
       "      <td>CLV_PCH_PRE_HAB</td>\n",
       "      <td>B1GQ</td>\n",
       "      <td>UK</td>\n",
       "      <td>2016</td>\n",
       "      <td>0.9</td>\n",
       "      <td>NaN</td>\n",
       "    </tr>\n",
       "    <tr>\n",
       "      <th>1870</th>\n",
       "      <td>ESTAT:SDG_08_10(1.0)</td>\n",
       "      <td>23/09/24 23:00:00</td>\n",
       "      <td>A</td>\n",
       "      <td>CLV_PCH_PRE_HAB</td>\n",
       "      <td>B1GQ</td>\n",
       "      <td>UK</td>\n",
       "      <td>2017</td>\n",
       "      <td>1.1</td>\n",
       "      <td>NaN</td>\n",
       "    </tr>\n",
       "    <tr>\n",
       "      <th>1871</th>\n",
       "      <td>ESTAT:SDG_08_10(1.0)</td>\n",
       "      <td>23/09/24 23:00:00</td>\n",
       "      <td>A</td>\n",
       "      <td>CLV_PCH_PRE_HAB</td>\n",
       "      <td>B1GQ</td>\n",
       "      <td>UK</td>\n",
       "      <td>2018</td>\n",
       "      <td>0.6</td>\n",
       "      <td>NaN</td>\n",
       "    </tr>\n",
       "    <tr>\n",
       "      <th>1872</th>\n",
       "      <td>ESTAT:SDG_08_10(1.0)</td>\n",
       "      <td>23/09/24 23:00:00</td>\n",
       "      <td>A</td>\n",
       "      <td>CLV_PCH_PRE_HAB</td>\n",
       "      <td>B1GQ</td>\n",
       "      <td>UK</td>\n",
       "      <td>2019</td>\n",
       "      <td>0.8</td>\n",
       "      <td>NaN</td>\n",
       "    </tr>\n",
       "  </tbody>\n",
       "</table>\n",
       "<p>1873 rows × 9 columns</p>\n",
       "</div>"
      ],
      "text/plain": [
       "                  DATAFLOW        LAST UPDATE freq             unit na_item  \\\n",
       "0     ESTAT:SDG_08_10(1.0)  23/09/24 23:00:00    A    CLV10_EUR_HAB    B1GQ   \n",
       "1     ESTAT:SDG_08_10(1.0)  23/09/24 23:00:00    A    CLV10_EUR_HAB    B1GQ   \n",
       "2     ESTAT:SDG_08_10(1.0)  23/09/24 23:00:00    A    CLV10_EUR_HAB    B1GQ   \n",
       "3     ESTAT:SDG_08_10(1.0)  23/09/24 23:00:00    A    CLV10_EUR_HAB    B1GQ   \n",
       "4     ESTAT:SDG_08_10(1.0)  23/09/24 23:00:00    A    CLV10_EUR_HAB    B1GQ   \n",
       "...                    ...                ...  ...              ...     ...   \n",
       "1868  ESTAT:SDG_08_10(1.0)  23/09/24 23:00:00    A  CLV_PCH_PRE_HAB    B1GQ   \n",
       "1869  ESTAT:SDG_08_10(1.0)  23/09/24 23:00:00    A  CLV_PCH_PRE_HAB    B1GQ   \n",
       "1870  ESTAT:SDG_08_10(1.0)  23/09/24 23:00:00    A  CLV_PCH_PRE_HAB    B1GQ   \n",
       "1871  ESTAT:SDG_08_10(1.0)  23/09/24 23:00:00    A  CLV_PCH_PRE_HAB    B1GQ   \n",
       "1872  ESTAT:SDG_08_10(1.0)  23/09/24 23:00:00    A  CLV_PCH_PRE_HAB    B1GQ   \n",
       "\n",
       "     geo  TIME_PERIOD  OBS_VALUE OBS_FLAG  \n",
       "0     AL         2000     1700.0      NaN  \n",
       "1     AL         2001     1850.0      NaN  \n",
       "2     AL         2002     1940.0      NaN  \n",
       "3     AL         2003     2060.0      NaN  \n",
       "4     AL         2004     2180.0      NaN  \n",
       "...   ..          ...        ...      ...  \n",
       "1868  UK         2015        1.6      NaN  \n",
       "1869  UK         2016        0.9      NaN  \n",
       "1870  UK         2017        1.1      NaN  \n",
       "1871  UK         2018        0.6      NaN  \n",
       "1872  UK         2019        0.8      NaN  \n",
       "\n",
       "[1873 rows x 9 columns]"
      ]
     },
     "execution_count": 3,
     "metadata": {},
     "output_type": "execute_result"
    }
   ],
   "source": [
    "gdp = pd.read_csv(\"gdp.csv\")\n",
    "gdp"
   ]
  },
  {
   "cell_type": "code",
   "execution_count": 4,
   "id": "a0f70549",
   "metadata": {},
   "outputs": [
    {
     "data": {
      "text/plain": [
       "array(['CLV10_EUR_HAB', 'CLV_PCH_PRE_HAB'], dtype=object)"
      ]
     },
     "execution_count": 4,
     "metadata": {},
     "output_type": "execute_result"
    }
   ],
   "source": [
    "gdp[\"unit\"].unique()"
   ]
  },
  {
   "cell_type": "code",
   "execution_count": 5,
   "id": "c9f11882",
   "metadata": {},
   "outputs": [
    {
     "data": {
      "text/html": [
       "<div>\n",
       "<style scoped>\n",
       "    .dataframe tbody tr th:only-of-type {\n",
       "        vertical-align: middle;\n",
       "    }\n",
       "\n",
       "    .dataframe tbody tr th {\n",
       "        vertical-align: top;\n",
       "    }\n",
       "\n",
       "    .dataframe thead th {\n",
       "        text-align: right;\n",
       "    }\n",
       "</style>\n",
       "<table border=\"1\" class=\"dataframe\">\n",
       "  <thead>\n",
       "    <tr style=\"text-align: right;\">\n",
       "      <th></th>\n",
       "      <th>DATAFLOW</th>\n",
       "      <th>LAST UPDATE</th>\n",
       "      <th>freq</th>\n",
       "      <th>unit</th>\n",
       "      <th>nace_r2</th>\n",
       "      <th>c_resid</th>\n",
       "      <th>geo</th>\n",
       "      <th>TIME_PERIOD</th>\n",
       "      <th>OBS_VALUE</th>\n",
       "      <th>OBS_FLAG</th>\n",
       "    </tr>\n",
       "  </thead>\n",
       "  <tbody>\n",
       "    <tr>\n",
       "      <th>0</th>\n",
       "      <td>ESTAT:TOUR_OCC_NINRAW(1.0)</td>\n",
       "      <td>17/09/24 11:00:00</td>\n",
       "      <td>A</td>\n",
       "      <td>NR</td>\n",
       "      <td>I551</td>\n",
       "      <td>AFR</td>\n",
       "      <td>AL</td>\n",
       "      <td>2020</td>\n",
       "      <td>80.00</td>\n",
       "      <td>e</td>\n",
       "    </tr>\n",
       "    <tr>\n",
       "      <th>1</th>\n",
       "      <td>ESTAT:TOUR_OCC_NINRAW(1.0)</td>\n",
       "      <td>17/09/24 11:00:00</td>\n",
       "      <td>A</td>\n",
       "      <td>NR</td>\n",
       "      <td>I551</td>\n",
       "      <td>AFR</td>\n",
       "      <td>AT</td>\n",
       "      <td>1990</td>\n",
       "      <td>79277.00</td>\n",
       "      <td>NaN</td>\n",
       "    </tr>\n",
       "    <tr>\n",
       "      <th>2</th>\n",
       "      <td>ESTAT:TOUR_OCC_NINRAW(1.0)</td>\n",
       "      <td>17/09/24 11:00:00</td>\n",
       "      <td>A</td>\n",
       "      <td>NR</td>\n",
       "      <td>I551</td>\n",
       "      <td>AFR</td>\n",
       "      <td>AT</td>\n",
       "      <td>1991</td>\n",
       "      <td>69660.00</td>\n",
       "      <td>NaN</td>\n",
       "    </tr>\n",
       "    <tr>\n",
       "      <th>3</th>\n",
       "      <td>ESTAT:TOUR_OCC_NINRAW(1.0)</td>\n",
       "      <td>17/09/24 11:00:00</td>\n",
       "      <td>A</td>\n",
       "      <td>NR</td>\n",
       "      <td>I551</td>\n",
       "      <td>AFR</td>\n",
       "      <td>AT</td>\n",
       "      <td>1992</td>\n",
       "      <td>84153.00</td>\n",
       "      <td>NaN</td>\n",
       "    </tr>\n",
       "    <tr>\n",
       "      <th>4</th>\n",
       "      <td>ESTAT:TOUR_OCC_NINRAW(1.0)</td>\n",
       "      <td>17/09/24 11:00:00</td>\n",
       "      <td>A</td>\n",
       "      <td>NR</td>\n",
       "      <td>I551</td>\n",
       "      <td>AFR</td>\n",
       "      <td>AT</td>\n",
       "      <td>1993</td>\n",
       "      <td>87235.00</td>\n",
       "      <td>NaN</td>\n",
       "    </tr>\n",
       "    <tr>\n",
       "      <th>...</th>\n",
       "      <td>...</td>\n",
       "      <td>...</td>\n",
       "      <td>...</td>\n",
       "      <td>...</td>\n",
       "      <td>...</td>\n",
       "      <td>...</td>\n",
       "      <td>...</td>\n",
       "      <td>...</td>\n",
       "      <td>...</td>\n",
       "      <td>...</td>\n",
       "    </tr>\n",
       "    <tr>\n",
       "      <th>382731</th>\n",
       "      <td>ESTAT:TOUR_OCC_NINRAW(1.0)</td>\n",
       "      <td>17/09/24 11:00:00</td>\n",
       "      <td>A</td>\n",
       "      <td>PCH_PRE</td>\n",
       "      <td>I553</td>\n",
       "      <td>ZA</td>\n",
       "      <td>TR</td>\n",
       "      <td>2020</td>\n",
       "      <td>-99.17</td>\n",
       "      <td>NaN</td>\n",
       "    </tr>\n",
       "    <tr>\n",
       "      <th>382732</th>\n",
       "      <td>ESTAT:TOUR_OCC_NINRAW(1.0)</td>\n",
       "      <td>17/09/24 11:00:00</td>\n",
       "      <td>A</td>\n",
       "      <td>PCH_PRE</td>\n",
       "      <td>I553</td>\n",
       "      <td>ZA</td>\n",
       "      <td>TR</td>\n",
       "      <td>2021</td>\n",
       "      <td>6900.00</td>\n",
       "      <td>NaN</td>\n",
       "    </tr>\n",
       "    <tr>\n",
       "      <th>382733</th>\n",
       "      <td>ESTAT:TOUR_OCC_NINRAW(1.0)</td>\n",
       "      <td>17/09/24 11:00:00</td>\n",
       "      <td>A</td>\n",
       "      <td>PCH_PRE</td>\n",
       "      <td>I553</td>\n",
       "      <td>ZA</td>\n",
       "      <td>TR</td>\n",
       "      <td>2022</td>\n",
       "      <td>-3.57</td>\n",
       "      <td>NaN</td>\n",
       "    </tr>\n",
       "    <tr>\n",
       "      <th>382734</th>\n",
       "      <td>ESTAT:TOUR_OCC_NINRAW(1.0)</td>\n",
       "      <td>17/09/24 11:00:00</td>\n",
       "      <td>A</td>\n",
       "      <td>PCH_PRE</td>\n",
       "      <td>I553</td>\n",
       "      <td>ZA</td>\n",
       "      <td>UK</td>\n",
       "      <td>2013</td>\n",
       "      <td>58.79</td>\n",
       "      <td>NaN</td>\n",
       "    </tr>\n",
       "    <tr>\n",
       "      <th>382735</th>\n",
       "      <td>ESTAT:TOUR_OCC_NINRAW(1.0)</td>\n",
       "      <td>17/09/24 11:00:00</td>\n",
       "      <td>A</td>\n",
       "      <td>PCH_PRE</td>\n",
       "      <td>I553</td>\n",
       "      <td>ZA</td>\n",
       "      <td>UK</td>\n",
       "      <td>2016</td>\n",
       "      <td>-100.00</td>\n",
       "      <td>NaN</td>\n",
       "    </tr>\n",
       "  </tbody>\n",
       "</table>\n",
       "<p>382736 rows × 10 columns</p>\n",
       "</div>"
      ],
      "text/plain": [
       "                          DATAFLOW        LAST UPDATE freq     unit nace_r2  \\\n",
       "0       ESTAT:TOUR_OCC_NINRAW(1.0)  17/09/24 11:00:00    A       NR    I551   \n",
       "1       ESTAT:TOUR_OCC_NINRAW(1.0)  17/09/24 11:00:00    A       NR    I551   \n",
       "2       ESTAT:TOUR_OCC_NINRAW(1.0)  17/09/24 11:00:00    A       NR    I551   \n",
       "3       ESTAT:TOUR_OCC_NINRAW(1.0)  17/09/24 11:00:00    A       NR    I551   \n",
       "4       ESTAT:TOUR_OCC_NINRAW(1.0)  17/09/24 11:00:00    A       NR    I551   \n",
       "...                            ...                ...  ...      ...     ...   \n",
       "382731  ESTAT:TOUR_OCC_NINRAW(1.0)  17/09/24 11:00:00    A  PCH_PRE    I553   \n",
       "382732  ESTAT:TOUR_OCC_NINRAW(1.0)  17/09/24 11:00:00    A  PCH_PRE    I553   \n",
       "382733  ESTAT:TOUR_OCC_NINRAW(1.0)  17/09/24 11:00:00    A  PCH_PRE    I553   \n",
       "382734  ESTAT:TOUR_OCC_NINRAW(1.0)  17/09/24 11:00:00    A  PCH_PRE    I553   \n",
       "382735  ESTAT:TOUR_OCC_NINRAW(1.0)  17/09/24 11:00:00    A  PCH_PRE    I553   \n",
       "\n",
       "       c_resid geo  TIME_PERIOD  OBS_VALUE OBS_FLAG  \n",
       "0          AFR  AL         2020      80.00        e  \n",
       "1          AFR  AT         1990   79277.00      NaN  \n",
       "2          AFR  AT         1991   69660.00      NaN  \n",
       "3          AFR  AT         1992   84153.00      NaN  \n",
       "4          AFR  AT         1993   87235.00      NaN  \n",
       "...        ...  ..          ...        ...      ...  \n",
       "382731      ZA  TR         2020     -99.17      NaN  \n",
       "382732      ZA  TR         2021    6900.00      NaN  \n",
       "382733      ZA  TR         2022      -3.57      NaN  \n",
       "382734      ZA  UK         2013      58.79      NaN  \n",
       "382735      ZA  UK         2016    -100.00      NaN  \n",
       "\n",
       "[382736 rows x 10 columns]"
      ]
     },
     "execution_count": 5,
     "metadata": {},
     "output_type": "execute_result"
    }
   ],
   "source": [
    "nights = pd.read_csv(\"nights_spent.csv\")\n",
    "nights"
   ]
  },
  {
   "cell_type": "code",
   "execution_count": 6,
   "id": "9d438146",
   "metadata": {},
   "outputs": [
    {
     "data": {
      "text/plain": [
       "array(['NR', 'PCH_PRE'], dtype=object)"
      ]
     },
     "execution_count": 6,
     "metadata": {},
     "output_type": "execute_result"
    }
   ],
   "source": [
    "nights[\"unit\"].unique()"
   ]
  },
  {
   "cell_type": "code",
   "execution_count": 7,
   "id": "42fc5b46",
   "metadata": {},
   "outputs": [],
   "source": [
    "wanted_gdp = gdp[gdp[\"unit\"] == 'CLV10_EUR_HAB']\n",
    "wanted_nights = nights[(nights[\"unit\"] == 'NR') & (nights[\"c_resid\"] == \"EUR\")]"
   ]
  },
  {
   "cell_type": "code",
   "execution_count": 8,
   "id": "5aad95a0",
   "metadata": {},
   "outputs": [],
   "source": [
    "gdp_sub = wanted_gdp[[\"geo\", \"TIME_PERIOD\", \"OBS_VALUE\"]].rename(columns={\"geo\": \"country\", \"TIME_PERIOD\": \"year\", \"OBS_VALUE\": \"gdp\"})\n",
    "nights_sub = wanted_nights[[\"geo\", \"TIME_PERIOD\", \"OBS_VALUE\"]].rename(columns={\"geo\": \"country\", \"TIME_PERIOD\": \"year\", \"OBS_VALUE\": \"nights\"})"
   ]
  },
  {
   "cell_type": "code",
   "execution_count": 9,
   "id": "1e62800f",
   "metadata": {},
   "outputs": [
    {
     "name": "stdout",
     "output_type": "stream",
     "text": [
      "938 2959\n"
     ]
    }
   ],
   "source": [
    "print(len(gdp_sub), len(nights_sub))"
   ]
  },
  {
   "cell_type": "code",
   "execution_count": 10,
   "id": "1745b614",
   "metadata": {},
   "outputs": [
    {
     "data": {
      "text/html": [
       "<div>\n",
       "<style scoped>\n",
       "    .dataframe tbody tr th:only-of-type {\n",
       "        vertical-align: middle;\n",
       "    }\n",
       "\n",
       "    .dataframe tbody tr th {\n",
       "        vertical-align: top;\n",
       "    }\n",
       "\n",
       "    .dataframe thead th {\n",
       "        text-align: right;\n",
       "    }\n",
       "</style>\n",
       "<table border=\"1\" class=\"dataframe\">\n",
       "  <thead>\n",
       "    <tr style=\"text-align: right;\">\n",
       "      <th></th>\n",
       "      <th>country</th>\n",
       "      <th>year</th>\n",
       "      <th>gdp</th>\n",
       "      <th>nights</th>\n",
       "    </tr>\n",
       "  </thead>\n",
       "  <tbody>\n",
       "    <tr>\n",
       "      <th>0</th>\n",
       "      <td>AL</td>\n",
       "      <td>2020</td>\n",
       "      <td>3810.0</td>\n",
       "      <td>693346.0</td>\n",
       "    </tr>\n",
       "    <tr>\n",
       "      <th>1</th>\n",
       "      <td>AL</td>\n",
       "      <td>2020</td>\n",
       "      <td>3810.0</td>\n",
       "      <td>739569.0</td>\n",
       "    </tr>\n",
       "    <tr>\n",
       "      <th>2</th>\n",
       "      <td>AL</td>\n",
       "      <td>2020</td>\n",
       "      <td>3810.0</td>\n",
       "      <td>42752.0</td>\n",
       "    </tr>\n",
       "    <tr>\n",
       "      <th>3</th>\n",
       "      <td>AL</td>\n",
       "      <td>2020</td>\n",
       "      <td>3810.0</td>\n",
       "      <td>46223.0</td>\n",
       "    </tr>\n",
       "    <tr>\n",
       "      <th>4</th>\n",
       "      <td>AL</td>\n",
       "      <td>2020</td>\n",
       "      <td>3810.0</td>\n",
       "      <td>3471.0</td>\n",
       "    </tr>\n",
       "    <tr>\n",
       "      <th>...</th>\n",
       "      <td>...</td>\n",
       "      <td>...</td>\n",
       "      <td>...</td>\n",
       "      <td>...</td>\n",
       "    </tr>\n",
       "    <tr>\n",
       "      <th>2720</th>\n",
       "      <td>UK</td>\n",
       "      <td>2016</td>\n",
       "      <td>32060.0</td>\n",
       "      <td>150341580.0</td>\n",
       "    </tr>\n",
       "    <tr>\n",
       "      <th>2721</th>\n",
       "      <td>UK</td>\n",
       "      <td>2016</td>\n",
       "      <td>32060.0</td>\n",
       "      <td>361452050.0</td>\n",
       "    </tr>\n",
       "    <tr>\n",
       "      <th>2722</th>\n",
       "      <td>UK</td>\n",
       "      <td>2016</td>\n",
       "      <td>32060.0</td>\n",
       "      <td>160001740.0</td>\n",
       "    </tr>\n",
       "    <tr>\n",
       "      <th>2723</th>\n",
       "      <td>UK</td>\n",
       "      <td>2016</td>\n",
       "      <td>32060.0</td>\n",
       "      <td>211110470.0</td>\n",
       "    </tr>\n",
       "    <tr>\n",
       "      <th>2724</th>\n",
       "      <td>UK</td>\n",
       "      <td>2016</td>\n",
       "      <td>32060.0</td>\n",
       "      <td>51108730.0</td>\n",
       "    </tr>\n",
       "  </tbody>\n",
       "</table>\n",
       "<p>2725 rows × 4 columns</p>\n",
       "</div>"
      ],
      "text/plain": [
       "     country  year      gdp       nights\n",
       "0         AL  2020   3810.0     693346.0\n",
       "1         AL  2020   3810.0     739569.0\n",
       "2         AL  2020   3810.0      42752.0\n",
       "3         AL  2020   3810.0      46223.0\n",
       "4         AL  2020   3810.0       3471.0\n",
       "...      ...   ...      ...          ...\n",
       "2720      UK  2016  32060.0  150341580.0\n",
       "2721      UK  2016  32060.0  361452050.0\n",
       "2722      UK  2016  32060.0  160001740.0\n",
       "2723      UK  2016  32060.0  211110470.0\n",
       "2724      UK  2016  32060.0   51108730.0\n",
       "\n",
       "[2725 rows x 4 columns]"
      ]
     },
     "execution_count": 10,
     "metadata": {},
     "output_type": "execute_result"
    }
   ],
   "source": [
    "d = gdp_sub.merge(nights_sub, on=[\"country\", \"year\"], how=\"inner\")\n",
    "d"
   ]
  },
  {
   "cell_type": "code",
   "execution_count": 11,
   "id": "3b48176d",
   "metadata": {},
   "outputs": [
    {
     "data": {
      "text/plain": [
       "40"
      ]
     },
     "execution_count": 11,
     "metadata": {},
     "output_type": "execute_result"
    }
   ],
   "source": [
    "len(d[\"country\"].unique())"
   ]
  },
  {
   "cell_type": "code",
   "execution_count": 12,
   "id": "bd86b713",
   "metadata": {},
   "outputs": [
    {
     "data": {
      "text/plain": [
       "19"
      ]
     },
     "execution_count": 12,
     "metadata": {},
     "output_type": "execute_result"
    }
   ],
   "source": [
    "len(d[\"year\"].unique())"
   ]
  },
  {
   "cell_type": "code",
   "execution_count": 13,
   "id": "71a8efbb",
   "metadata": {},
   "outputs": [
    {
     "data": {
      "text/plain": [
       "<matplotlib.collections.PathCollection at 0x7b0dfdfd0bb0>"
      ]
     },
     "execution_count": 13,
     "metadata": {},
     "output_type": "execute_result"
    },
    {
     "data": {
      "image/png": "[encoded data removed]",
      "text/plain": [
       "<Figure size 1000x500 with 1 Axes>"
      ]
     },
     "metadata": {},
     "output_type": "display_data"
    }
   ],
   "source": [
    "plt.scatter(d[\"nights\"], d[\"gdp\"])"
   ]
  },
  {
   "cell_type": "code",
   "execution_count": 23,
   "id": "653afdb2",
   "metadata": {},
   "outputs": [
    {
     "data": {
      "text/plain": [
       "0.013937482235048402"
      ]
     },
     "execution_count": 23,
     "metadata": {},
     "output_type": "execute_result"
    }
   ],
   "source": [
    "d[\"gdp\"].corr(d[\"nights\"])"
   ]
  },
  {
   "cell_type": "code",
   "execution_count": 25,
   "id": "e3652898",
   "metadata": {},
   "outputs": [
    {
     "data": {
      "text/plain": [
       "{'AL',\n",
       " 'AT',\n",
       " 'BE',\n",
       " 'BG',\n",
       " 'CH',\n",
       " 'CY',\n",
       " 'CZ',\n",
       " 'DE',\n",
       " 'DK',\n",
       " 'EA19',\n",
       " 'EA20',\n",
       " 'EE',\n",
       " 'EL',\n",
       " 'ES',\n",
       " 'EU27_2020',\n",
       " 'EU28',\n",
       " 'FI',\n",
       " 'FR',\n",
       " 'HR',\n",
       " 'HU',\n",
       " 'IE',\n",
       " 'IS',\n",
       " 'IT',\n",
       " 'LT',\n",
       " 'LU',\n",
       " 'LV',\n",
       " 'ME',\n",
       " 'MK',\n",
       " 'MT',\n",
       " 'NL',\n",
       " 'NO',\n",
       " 'PL',\n",
       " 'PT',\n",
       " 'RO',\n",
       " 'RS',\n",
       " 'SE',\n",
       " 'SI',\n",
       " 'SK',\n",
       " 'TR',\n",
       " 'UK'}"
      ]
     },
     "execution_count": 25,
     "metadata": {},
     "output_type": "execute_result"
    }
   ],
   "source": [
    "countries = set(d[\"country\"].unique())\n",
    "countries"
   ]
  },
  {
   "cell_type": "code",
   "execution_count": 27,
   "id": "751426b2",
   "metadata": {},
   "outputs": [],
   "source": [
    "corrs = []\n",
    "for country in countries:\n",
    "\tcd = d[d[\"country\"] == country]\n",
    "\tcorr = cd[\"gdp\"].corr(cd[\"nights\"])\n",
    "\tcorrs.append((country, corr))"
   ]
  },
  {
   "cell_type": "code",
   "execution_count": null,
   "id": "55830417",
   "metadata": {},
   "outputs": [],
   "source": []
  },
  {
   "cell_type": "markdown",
   "id": "chronic-jonathan",
   "metadata": {},
   "source": [
    "### Ejercicio 2"
   ]
  },
  {
   "cell_type": "markdown",
   "id": "covered-avenue",
   "metadata": {},
   "source": [
    "En este curso trabajaremos con datos referentes a los alojamientos vacacionales en Canarias durante el periodo 2010-2021. Trataremos tres bases de datos: \n",
    "\n",
    "- Características de las propiedades que están o han estado abiertas durante ese periodo en Canarias [Fichero Airbnb_properties](https://alumnosulpgc-my.sharepoint.com/:x:/g/personal/juan_hernandez_ulpgc_es/EeYrbeFBYR1OjINagjy6MisBFCnHh2lLxlqM_-nkYiVZ_w?e=oWLGDp).\n",
    "- Información de los clientes y comentarios dejados sobre las viviendas [Fichero Airbnb_reviews](https://alumnosulpgc-my.sharepoint.com/:x:/g/personal/juan_hernandez_ulpgc_es/EQhLfFpd9epGpxGenMQx5u8BpfnzRfs_VG51FwXP6tnflQ?e=mBqXfm).\n",
    "- Información sobre los anfitriones [fichero Airbnb_host](https://alumnosulpgc-my.sharepoint.com/:x:/g/personal/juan_hernandez_ulpgc_es/Eaa3oetSDgZAtc5xa0hfAzMBHnMYfaGVZsGrUujOMgPv-Q?e=LbOIne).\n",
    "\n",
    "La información de las variables se encuentra en el siguiente [glosario](https://alumnosulpgc-my.sharepoint.com/:w:/g/personal/juan_hernandez_ulpgc_es/ESzatil3opNJs04UDr3nqqkBechOAjvPe4Wk6rtKJIDJSQ?e=Sdu0Dv)\n",
    "  \n",
    "En primer lugar, nos hacemos una pregunta general de investigación, que es la que va a guiar nuestro análisis: ¿Qué factores determinan el éxito comercial de un alojamiento Airbnb en Canarias? Durante el estudio trataremos de averiguar cómo está la situación y qué debería hacerse para incrementar el éxito comercial de estos alojamientos. \n",
    "\n",
    "**Nota teórica** \n",
    "\n",
    "Según Hopken y Fuchs (2018), los datos útiles para realizar un trabajo de BI se pueden clasificar en tres: \n",
    "\n",
    "- Recursos: Cubren los recursos turísticos y no turísticos proporcionado o disponibles por el negocio (características del alojamientos, financiación, etc.)\n",
    "- Performance: Cubren los indicadores de desempeño y económicos (ocupación, ingresos, etc.), así como satisfacción de los clientes.\n",
    "- Demanda: Cubren información de los clientes, así como factores externos que influyen en la demanda (condiciones climáticas, eventos, etc.)\n",
    "\n",
    "**Fin de la nota teórica** \n",
    "\n",
    "Recorrer las primeras etapas de un proceso de BI, esto es, extracción, transformación y almacenamiento de la información. Para ello, se realizarán las siguentes tareas: \n",
    "\n",
    "- Identificación de datos faltantes o incorrectos. \n",
    "- Limpieza de los datos, tratando los datos faltantes según un criterio razonable. \n",
    "- Eliminación de información no relevante o confusa (variables categóricas). \n",
    "- Clasificar datos según recursos, performance y demanda.\n",
    "- Identificación y eliminación de datos duplicados.\n",
    "- Homogeneización de la información: Normalización de variables continuas; Agrupación de categorías en variables con un elevado número de las mismas.\n",
    "- Enriquecer los datos con información de otras fuentes, como por ejemplo, GDP y temperatura media del origen del usuario. Pensar en otras fuentes de datos que enriquezcan la información.\n",
    "- Almacenar los datos en un formato adecuado. No eliminar las fuentes originales y sin normalizar.\n"
   ]
  },
  {
   "cell_type": "markdown",
   "id": "ad9bf54e",
   "metadata": {},
   "source": [
    "### Ejercicio 3"
   ]
  },
  {
   "cell_type": "markdown",
   "id": "a2210e25",
   "metadata": {},
   "source": [
    "**Nota teórica** \n",
    "Algunas distribuciones de frecuencias con datos reales tienen la propiedad de \"cola ancha\". Esta consiste en la observación de algunos datos extremos (outliers) pero con una suficiente masa de probabilidad que hace que sean significativos y representativos. Esto se produce en diversos fenómenos socioeconómicos, relacionados con la popularidad/funcionamiento de los individuos o entidades. En estas distribuciones, la gran mayoría de los individuos tienen popularidad baja o media, mientras que una parte pequeña pero representativa tienen mucha popularidad. \n",
    "\n",
    "Un ley de probabilidad continua que se adapta a este fenómeno es la *potencial o power-law*, que tienen la forma $y=x_0x^{-\\alpha}$, siendo $\\alpha>0$. Esta función es decreciente pero con una cola más ancha que otras probabilidades de tipo exponencial. \n",
    "\n",
    "Esta ley de probabilidad verifica que en escala logarítmica la densidad de probabilidad es lineal, esto es, tomando logaritmos a un lado y otro de la ecuación nos queda $\\log(y)=\\log(x_0) -\\alpha \\cdot \\log(x)$.\n",
    "\n",
    "Una forma de detectar si una distribución de frecuencias sigue una *power-law* es representar la distribución en escala logarítmica y observar si a partir de un valor $x>\\bar{x}$ la distribución sigue una función lineal y decreciente. La pendiente de esa función lineal es el valor del parámetro $\\alpha$. \n",
    "\n",
    "**Fin de la nota teórica** \n",
    "\n",
    "Realizar un análisis descriptivo de los datos (estadísticos descriptivos, distribución estadística, determinar si alguna distribución se podría ajustar con una *power-law*).\n"
   ]
  },
  {
   "cell_type": "code",
   "execution_count": null,
   "id": "b4ec4f44-fe40-41a5-b7a7-d805b138313e",
   "metadata": {},
   "outputs": [],
   "source": []
  }
 ],
 "metadata": {
  "celltoolbar": "Tags",
  "kernelspec": {
   "display_name": "Python 3 (ipykernel)",
   "language": "python",
   "name": "python3"
  },
  "language_info": {
   "codemirror_mode": {
    "name": "ipython",
    "version": 3
   },
   "file_extension": ".py",
   "mimetype": "text/x-python",
   "name": "python",
   "nbconvert_exporter": "python",
   "pygments_lexer": "ipython3",
   "version": "3.10.8"
  }
 },
 "nbformat": 4,
 "nbformat_minor": 5
}
